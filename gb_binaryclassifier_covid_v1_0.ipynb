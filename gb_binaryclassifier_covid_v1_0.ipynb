{
  "nbformat": 4,
  "nbformat_minor": 0,
  "metadata": {
    "colab": {
      "provenance": [],
      "authorship_tag": "ABX9TyNWKSGe3fyK5HqtIRL07PE9",
      "include_colab_link": true
    },
    "kernelspec": {
      "name": "python3",
      "display_name": "Python 3"
    },
    "language_info": {
      "name": "python"
    }
  },
  "cells": [
    {
      "cell_type": "markdown",
      "metadata": {
        "id": "view-in-github",
        "colab_type": "text"
      },
      "source": [
        "<a href=\"https://colab.research.google.com/github/krishkankure/covid-gb-classifier/blob/main/gb_binaryclassifier_covid_v1_0.ipynb\" target=\"_parent\"><img src=\"https://colab.research.google.com/assets/colab-badge.svg\" alt=\"Open In Colab\"/></a>"
      ]
    },
    {
      "cell_type": "code",
      "execution_count": null,
      "metadata": {
        "id": "SUt1Xs_Y3PpK",
        "cellView": "form"
      },
      "outputs": [],
      "source": [
        "#@title Setup (run once)\n",
        "import os\n",
        "import glob\n",
        "\n",
        "!git clone -b master https://github.com/krishkankure/covid-gb-classifier.git\n",
        "os.chdir('covid-gb-classifier')\n",
        "!pip install numpy\n",
        "!pip install scikit-learn\n",
        "!pip install lightgbm\n",
        "!pip install imblearn\n"
      ]
    },
    {
      "cell_type": "code",
      "source": [
        "#@title Train Model - This is OPTIONAL, you may skip to the next step.\n",
        "import numpy as np\n",
        "import pandas as pd\n",
        "from sklearn.model_selection import train_test_split\n",
        "from sklearn.metrics import accuracy_score, recall_score, f1_score\n",
        "import sklearn.metrics\n",
        "import joblib\n",
        "from sklearn.linear_model import LogisticRegression\n",
        "from lightgbm import LGBMClassifier\n",
        "from imblearn.under_sampling import RandomUnderSampler\n",
        "import matplotlib.pyplot as plt\n",
        "from sklearn.calibration import calibration_curve\n",
        "from sklearn.calibration import CalibratedClassifierCV\n",
        "\n",
        "data = pd.read_csv(\"covid.csv\"); # import covid data set\n",
        "X = data.drop(columns=['DATE_DIED']) # X set drops DATE_DIED\n",
        "y = data['DATE_DIED'] # y set exclusively uses DATE_DIED\n",
        "\n",
        "y = y.replace('9999-99-99', 0).replace('[^0]', 1, regex=True) # Replaces 9999-99-99 with 0, indicated no death, otherwise a 1, indicating death\n",
        "\n",
        "undersample = RandomUnderSampler(random_state=42)\n",
        "\n",
        "X_resampled, y_resampled = undersample.fit_resample(X, y)\n",
        "\n",
        "X_train, X_rem, y_train, y_rem = train_test_split(X_resampled, y_resampled, train_size=0.7, random_state=42)\n",
        "X_valid, X_test, y_valid, y_test = train_test_split(X_rem, y_rem, test_size=0.5, random_state=42)\n",
        "\n",
        "model = LGBMClassifier(boosting_type = 'dart', objective = 'binary', max_depth = 20, # add early_stopping_rounds if using gbdt or goss\n",
        "                       bagging_fraction = 0.6, first_metric_only=False, \n",
        "                       verbose=0, min_gain_to_split=0.5, reg_alpha=0.1, reg_lambda=0.1, min_child_samples = 20)\n",
        "\n",
        "model.num_leaves = 2^(model.max_depth)\n",
        "model.num_iterations = 1000\n",
        "model.learning_rate = 0.05\n",
        "model.fit(X_train.values, y_train)\n",
        "\n",
        "calibrated_model = CalibratedClassifierCV(model, cv=10, method='isotonic') # isotonic regression calibration, long training time for plat scaling\n",
        "calibrated_model.fit(X_train, y_train)\n",
        "\n",
        "# Validation Set Accuracy\n",
        "y_pred = calibrated_model.predict(X_valid)\n",
        "accuracy = accuracy_score(y_valid, y_pred)\n",
        "\n",
        "# Test Set Accuracy\n",
        "y_pred_test = calibrated_model.predict(X_test)\n",
        "accuracy_test = accuracy_score(y_test, y_pred_test)\n",
        "\n",
        "#True Positive Rate (Test Set)\n",
        "\n",
        "tpr_test = recall_score(y_test, y_pred_test)\n",
        "\n",
        "# F1 Score (precision)\n",
        "\n",
        "f1 = f1_score(y_valid, y_pred)\n",
        "\n",
        "# Print the accuracy score\n",
        "\n",
        "\n",
        "\n",
        "print(\"Test set accuracy:\", accuracy_test)\n",
        "\n",
        "print(\"Validation set accuracy:\", accuracy)\n",
        "\n",
        "print(\"Test F1 Score:\", f1)\n",
        "print(\"TPR:\", tpr_test)\n",
        "\n",
        "y_pred_proba = calibrated_model.predict_proba(X_test)[::,1]\n",
        "\n",
        "auc = sklearn.metrics.roc_auc_score(y_test, y_pred_proba)\n",
        "print(\"AUC \", auc)\n",
        "joblib.dump(calibrated_model, 'calibrated_model.joblib')"
      ],
      "metadata": {
        "cellView": "form",
        "id": "cPmYq2ybP6gV"
      },
      "execution_count": null,
      "outputs": []
    },
    {
      "cell_type": "code",
      "source": [
        "#@title Define Probability Function, open joblib model\n",
        "import joblib\n",
        "import pandas as pd\n",
        "loaded_calibrated_model = joblib.load('calibrated_model.joblib')# calibrated_model = pickle.load(open('model.pkl', 'rb'))\n",
        "def getProbability(usmer, med, sex, patient_type, intubed, pneu, age, preg, diab, copd, asth, inms, hype, oth, card,\n",
        "                  obe, ren, toba, clas, icu):\n",
        "    df = pd.DataFrame()\n",
        "    df['USMER'] = [usmer]\n",
        "    df['MEDICAL_UNIT'] = [med]\n",
        "    df['SEX'] = [sex]\n",
        "    df['PATIENT_TYPE'] = [patient_type]\n",
        "    df['INTUBED'] = [intubed]\n",
        "    df['PNEUMONIA'] = [pneu]\n",
        "    df['AGE'] = [age]\n",
        "    df['PREGNANT'] = preg\n",
        "    df['DIABETES'] = [diab]\n",
        "    df['COPD'] = [copd]\n",
        "    df['ASTHMA'] = [asth]\n",
        "    df['INMSUPR'] = [inms]\n",
        "    df['HIPERTENSION'] = [hype] # [sic.]\n",
        "    df['OTHER_DISEASE'] = [oth]\n",
        "    df['CARDIOVASCULAR'] = [card]\n",
        "    df['OBESITY'] = obe\n",
        "    df['RENAL_CHRONIC'] = [ren]\n",
        "    df['TOBACCO'] = [toba]\n",
        "    df['CLASIFFICATION_FINAL'] = [clas] #[sic.]\n",
        "    df['ICU'] = [icu]\n",
        "    outcome = (loaded_calibrated_model.predict_proba(df))\n",
        "    return ((float(int(outcome[0][0]*10000)))/100)"
      ],
      "metadata": {
        "cellView": "form",
        "id": "ZAdzUiUWlFZO"
      },
      "execution_count": null,
      "outputs": []
    },
    {
      "cell_type": "markdown",
      "source": [
        "# Instructions (READ THIS)\n",
        "\n",
        "\n",
        "\n",
        "*   Medical Level indicates the level of hospital care recieved (1-2)\n",
        "*   Medical unit that patient is being treated in, in order of significance, ascending\n",
        "\n",
        "*   Patient_Type refers to the situation of the patient. If the patient has been sent home, enter **1**, else if they are recieving hospital care, enter **2**\n",
        "*   For all other values, 1 represents that they **do** have the condition, 2 represents that they **do not** have the condition\n",
        "*   Covid Test Results between 1-3 indicate a positive test, 4-6 indicates inconclusive test results\n"
      ],
      "metadata": {
        "id": "1yPd2d7n1E73"
      }
    },
    {
      "cell_type": "code",
      "source": [
        "#@title Predict - slide the values and then run cell\n",
        "medical_level = 1 #@param {type:\"slider\", min:1, max:2, step:1}\n",
        "medical_unit = 7 #@param {type:\"slider\", min:2, max:12, step:1}\n",
        "sex = 1 #@param {type:\"slider\", min:1, max:2, step:1}\n",
        "patient_type = 1 #@param {type:\"slider\", min:1, max:2, step:1}\n",
        "intubed = 2 #@param {type:\"slider\", min:1, max:2, step:1}\n",
        "pneumonia = 2 #@param {type:\"slider\", min:1, max:2, step:1}\n",
        "age = 19 #@param {type:\"slider\", min:0, max:99, step:1}\n",
        "pregnant = 2 #@param {type:\"slider\", min:1, max:2, step:1}\n",
        "diabetes = 2 #@param {type:\"slider\", min:1, max:2, step:1}\n",
        "copd = 2 #@param {type:\"slider\", min:1, max:2, step:1}\n",
        "asthma = 2 #@param {type:\"slider\", min:1, max:2, step:1}\n",
        "immunosuppresed = 2 #@param {type:\"slider\", min:1, max:2, step:1}\n",
        "hypertension = 2 #@param {type:\"slider\", min:1, max:2, step:1}\n",
        "other_disease = 2 #@param {type:\"slider\", min:1, max:2, step:1}\n",
        "cardiovascular_disease = 2 #@param {type:\"slider\", min:1, max:2, step:1}\n",
        "obese = 2 #@param {type:\"slider\", min:1, max:2, step:1}\n",
        "renal_chronic = 2 #@param {type:\"slider\", min:1, max:2, step:1}\n",
        "tobacco_user = 2 #@param {type:\"slider\", min:1, max:2, step:1}\n",
        "covid_test_results = 5 #@param {type:\"slider\", min:1, max:6, step:1}\n",
        "icu = 2 #@param {type:\"slider\", min:1, max:2, step:1}\n",
        "print(\"Probability of Survival:\", getProbability(medical_level, medical_unit, sex, patient_type, intubed, \n",
        "                                                pneumonia, age, pregnant, diabetes, copd, asthma, \n",
        "                                                immunosuppresed, hypertension, other_disease,\n",
        "                                                cardiovascular_disease, obese, renal_chronic, tobacco_user, \n",
        "                                                covid_test_results, icu), \"%\")\n"
      ],
      "metadata": {
        "id": "yv8xaWx3QX2E",
        "colab": {
          "base_uri": "https://localhost:8080/"
        },
        "cellView": "form",
        "outputId": "6e7169dc-97a8-4f83-804d-09d68e4918f4"
      },
      "execution_count": null,
      "outputs": [
        {
          "output_type": "stream",
          "name": "stdout",
          "text": [
            "Probability of Survival: 99.0 %\n"
          ]
        }
      ]
    }
  ]
}